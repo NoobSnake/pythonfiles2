{
 "cells": [
  {
   "cell_type": "code",
   "execution_count": 1,
   "metadata": {},
   "outputs": [],
   "source": [
    "#https://www.youtube.com/watch?v=La6ZO8vu-1w\n",
    "\n",
    "import csv, json\n",
    "import pandas as pd\n",
    "import os\n",
    "\n",
    "\n",
    "#method to pass csv to dict\n",
    "def rawData(fileName):\n",
    "    raw_data = pd.read_csv('Dataset1/' + fileName)\n",
    "    return raw_data\n",
    "\n",
    "csvfiles = os.listdir('Dataset1/')\n",
    "inspections_raw = []\n",
    "inventory_raw = []\n",
    "violations_raw = []\n",
    "\n",
    "for file in csvfiles:\n",
    "    if \"Inspections\" in file:\n",
    "        inspections_raw = rawData(file)\n",
    "    if \"Inventory\" in file:\n",
    "        inventory_raw = rawData(file)\n",
    "    if \"Violations\" in file:\n",
    "        violations_raw = rawData(file)\n"
   ]
  },
  {
   "cell_type": "code",
   "execution_count": 17,
   "metadata": {},
   "outputs": [
    {
     "name": "stdout",
     "output_type": "stream",
     "text": [
      "   SERIAL NUMBER  VIOLATION  STATUS VIOLATION CODE  \\\n",
      "0      DA0004KIJ  OUT OF COMPLIANCE           F049   \n",
      "1      DA0004KIJ  OUT OF COMPLIANCE           F042   \n",
      "2      DA0004KIJ  OUT OF COMPLIANCE           F037   \n",
      "3      DA0004KIJ  OUT OF COMPLIANCE           F015   \n",
      "4      DA0004KIJ  OUT OF COMPLIANCE           F006   \n",
      "5      DA0004YWJ  OUT OF COMPLIANCE           F044   \n",
      "6      DA0004YWJ  OUT OF COMPLIANCE           F043   \n",
      "7      DA0004YWJ  OUT OF COMPLIANCE           F042   \n",
      "8      DA0004YWJ  OUT OF COMPLIANCE           F035   \n",
      "9      DA0004YWJ  OUT OF COMPLIANCE           F034   \n",
      "10     DA0004YWJ  OUT OF COMPLIANCE           F033   \n",
      "11     DA0004YWJ  OUT OF COMPLIANCE           F030   \n",
      "12     DA0004YWJ  OUT OF COMPLIANCE           F006   \n",
      "13     DA0007F08  OUT OF COMPLIANCE           F043   \n",
      "14     DA0007F08  OUT OF COMPLIANCE           F042   \n",
      "15     DA0007F08  OUT OF COMPLIANCE           F035   \n",
      "16     DA0007F08  OUT OF COMPLIANCE           F034   \n",
      "17     DA0007F08  OUT OF COMPLIANCE           F023   \n",
      "\n",
      "                                VIOLATION DESCRIPTION  POINTS  \n",
      "0   # 50. Impoundment of unsanitary equipment or food       0  \n",
      "1   # 42. Toilet facilities: properly constructed,...       1  \n",
      "2   # 37. Adequate ventilation and lighting; desig...       1  \n",
      "3            # 15. Food obtained from approved source       2  \n",
      "4   # 06. Adequate handwashing facilities supplied...       2  \n",
      "5   # 44. Floors, walls and ceilings: properly bui...       1  \n",
      "6   # 43. Premises; personal/cleaning items; vermi...       1  \n",
      "7   # 42. Toilet facilities: properly constructed,...       1  \n",
      "8   # 35. Equipment/Utensils - approved; installed...       1  \n",
      "9   # 34. Warewashing facilities: Adequate, mainta...       1  \n",
      "10  # 33. Nonfood-contact surfaces clean and in go...       1  \n",
      "11  # 30. Food properly stored; food storage conta...       1  \n",
      "12  # 06. Adequate handwashing facilities supplied...       2  \n",
      "13  # 43. Premises; personal/cleaning items; vermi...       1  \n",
      "14  # 42. Toilet facilities: properly constructed,...       1  \n",
      "15  # 35. Equipment/Utensils - approved; installed...       1  \n",
      "16  # 34. Warewashing facilities: Adequate, mainta...       1  \n",
      "17       # 23. No rodents, insects, birds, or animals       2  \n"
     ]
    }
   ],
   "source": [
    "violations_raw.to_json(\"Violations1.json\")\n",
    "inventory_raw.to_json(\"Inventory1.json\")\n",
    "inspections_raw.to_json(\"Inspections1.json\")\n",
    "\n",
    "print(violations_raw)"
   ]
  }
 ],
 "metadata": {
  "kernelspec": {
   "display_name": "Python 3",
   "language": "python",
   "name": "python3"
  },
  "language_info": {
   "codemirror_mode": {
    "name": "ipython",
    "version": 3
   },
   "file_extension": ".py",
   "mimetype": "text/x-python",
   "name": "python",
   "nbconvert_exporter": "python",
   "pygments_lexer": "ipython3",
   "version": "3.8.5"
  }
 },
 "nbformat": 4,
 "nbformat_minor": 4
}
