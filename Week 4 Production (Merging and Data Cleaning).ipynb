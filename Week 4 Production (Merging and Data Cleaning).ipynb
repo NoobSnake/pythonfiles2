{
 "cells": [
  {
   "cell_type": "code",
   "execution_count": 5,
   "metadata": {},
   "outputs": [],
   "source": [
    "import pandas as pd\n",
    "import os"
   ]
  },
  {
   "cell_type": "code",
   "execution_count": 3,
   "metadata": {},
   "outputs": [
    {
     "name": "stdout",
     "output_type": "stream",
     "text": [
      "(18, 5)\n",
      "(18, 25)\n",
      "(18, 23)\n"
     ]
    }
   ],
   "source": [
    "inv = pd.read_csv(\"Dataset1\\Inventory2.csv\")\n",
    "insp = pd.read_csv(\"Dataset1\\Inspections2.csv\")\n",
    "vio = pd.read_csv(\"Dataset1\\Violations2.csv\")\n",
    "print(vio.shape)\n",
    "print(insp.shape)\n",
    "print(inv.shape)"
   ]
  },
  {
   "cell_type": "code",
   "execution_count": 6,
   "metadata": {
    "scrolled": true
   },
   "outputs": [
    {
     "name": "stdout",
     "output_type": "stream",
     "text": [
      "(18, 37)\n"
     ]
    }
   ],
   "source": [
    "#merge the files\n",
    "\n",
    "cols_to_use=inv.columns.difference(insp.columns)\n",
    "\n",
    "insp_inv= pd.merge(insp, inv[cols_to_use], left_index=True, \n",
    "                   right_index=True, how='outer')\n",
    "\n",
    "cols_to_use2=vio.columns.difference(insp_inv.columns)\n",
    "\n",
    "merged_data= pd.merge(insp_inv, vio[cols_to_use2], left_index=True, \n",
    "                      right_index=True, how='outer')\n",
    "\n",
    "print(merged_data.shape)\n",
    "merged_data.to_csv(\"merged_data.csv\")\n"
   ]
  },
  {
   "cell_type": "code",
   "execution_count": 62,
   "metadata": {},
   "outputs": [
    {
     "name": "stdout",
     "output_type": "stream",
     "text": [
      "(14, 37)\n"
     ]
    }
   ],
   "source": [
    "#not include any data from vendors 'Program Status Inactive'\n",
    "\n",
    "indexInactive = merged_data[merged_data[\"PROGRAM STATUS\"] == \"INACTIVE\"].index\n",
    "merged_data.drop(indexInactive, inplace=True)\n",
    "print(merged_data.shape)"
   ]
  },
  {
   "cell_type": "code",
   "execution_count": 97,
   "metadata": {},
   "outputs": [
    {
     "name": "stdout",
     "output_type": "stream",
     "text": [
      "NO\n"
     ]
    }
   ],
   "source": [
    "#extract seat number to new column in PE DESCRIPTION COLUMN\n",
    "import re\n",
    "peDescColumn = merged_data[\"PE DESCRIPTION\"]\n",
    "#seatNumber = re.search(\"(.*)\", str(peDescColumn))\n",
    "#if(seatNumber):\n",
    "    #print(\"True\")\n",
    "#else:\n",
    "   # print(\"NO\")\n",
    "\n",
    "\n",
    "    \n",
    "#seatNumber = re.findall(\"[\\(].\\){1}\", str(peDescColumn))\n",
    "#if(seatNumber):\n",
    "   # print(\"True\")\n",
    "#else:\n",
    "   # print(\"NO\")\n",
    "    \n",
    "#seatIndex = merged_data[merged_data[\"PE DESCRIPTION\"] == \"(.)\"].index\n",
    "\n",
    "https://stackoverflow.com/questions/44464118/python-pandas-extract-a-number-from-column-into-new-column\n",
    "https://towardsdatascience.com/extract-rows-columns-from-a-dataframe-in-python-r-678e5b6743d6\n",
    "https://datacarpentry.org/python-ecology-lesson/03-index-slice-subset/index.html\n",
    "https://stackoverflow.com/questions/63847913/how-to-extract-part-of-a-string-in-pandas-dataframe-cell-and-create-a-new-column\n",
    "    "
   ]
  },
  {
   "cell_type": "code",
   "execution_count": null,
   "metadata": {},
   "outputs": [],
   "source": [
    "#Produce mean, median mode for type of vendors seating"
   ]
  },
  {
   "cell_type": "code",
   "execution_count": null,
   "metadata": {},
   "outputs": [],
   "source": [
    "#Produce mean, median mode for each zip code"
   ]
  },
  {
   "cell_type": "code",
   "execution_count": null,
   "metadata": {},
   "outputs": [],
   "source": [
    "#Product graph displaying estblishments that have committed each\n",
    "#type of violation\n",
    "#HOW TO GROUP THIS DATA?"
   ]
  },
  {
   "cell_type": "code",
   "execution_count": null,
   "metadata": {},
   "outputs": [],
   "source": [
    "#determine correlation between number of violations per vendor\n",
    "#and zip code"
   ]
  }
 ],
 "metadata": {
  "kernelspec": {
   "display_name": "Python 3",
   "language": "python",
   "name": "python3"
  },
  "language_info": {
   "codemirror_mode": {
    "name": "ipython",
    "version": 3
   },
   "file_extension": ".py",
   "mimetype": "text/x-python",
   "name": "python",
   "nbconvert_exporter": "python",
   "pygments_lexer": "ipython3",
   "version": "3.8.5"
  }
 },
 "nbformat": 4,
 "nbformat_minor": 4
}
