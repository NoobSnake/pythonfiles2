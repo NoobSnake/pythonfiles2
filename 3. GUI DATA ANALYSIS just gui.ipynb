{
 "cells": [
  {
   "cell_type": "code",
   "execution_count": null,
   "metadata": {},
   "outputs": [],
   "source": [
    "3.\tProduce the mean, mode and median for the inspection score per year:\n",
    "a.\tFor each type of vendor’s seating\n",
    "b.\tFor each ‘zip code’\n",
    "\n",
    "4.\tProduce a suitable graph that displays the number of establishments \n",
    "that have committed each type of violation. \n",
    "You may need to consider how you group this data to make visualisation feasible\n",
    "\n",
    "\n",
    "5.\tDetermine if there is any significant correlation between the \n",
    "number of violations committed per vendor and their zip code, \n",
    "‘Is there a tendency for facilities in specific locations to have \n",
    "more violations?’. You will need to select an appropriate \n",
    "visualisation to demonstrate this."
   ]
  },
  {
   "cell_type": "code",
   "execution_count": 6,
   "metadata": {},
   "outputs": [],
   "source": [
    "from tkinter import *\n",
    "import os\n",
    "from tkinter import filedialog as fd\n",
    "import pandas as pd\n",
    "import numpy as py\n",
    "import matplotlib.pyplot as plt\n",
    "import seaborn as sns"
   ]
  },
  {
   "cell_type": "code",
   "execution_count": 41,
   "metadata": {},
   "outputs": [],
   "source": [
    "root = Tk()\n",
    "root.title(\"Data Analysis\")\n",
    "root.geometry=(\"1000x800\")\n",
    "\n",
    "def selectOption(userChoice):\n",
    "    myLabel=Label(root, text=selected.get()).grid(row=1, column=2)\n",
    "\n",
    "#display for cleaned data - dataframe?\n",
    "myLabel1 = Label(root, text=\"How can i display the data here\")\n",
    "myLabel2 = Label(root, text=\"Apparently tkinter doesnt have an option for it\")\n",
    "myLabel1.grid(row=0, column=0)\n",
    "myLabel2.grid(row=1, column=0)\n",
    "#options dropbox for mean median mode\n",
    "options = [\n",
    "    \"None Selected\",\n",
    "    \"Mean  \",\n",
    "    \"Median\",\n",
    "    \"Mode  \"\n",
    "]\n",
    "#drop down box for mean, median, mode\n",
    "mmmSelected = StringVar()\n",
    "mmmSelected.set(options[0])\n",
    "drop = OptionMenu(root, mmmSelected, *options).grid(row=0,column=4, sticky='w')\n",
    "\n",
    "#options drop box for vendor, zip code\n",
    "options = [\n",
    "    \"None Selected\",\n",
    "    \"Vendor Seating\",\n",
    "    \"Zip Code       \"\n",
    "]\n",
    "\n",
    "#drop down box for vendor zipcode options\n",
    "venZipSelected = StringVar()\n",
    "venZipSelected.set(options[0])\n",
    "drop = OptionMenu(root, venZipSelected, *options).grid(row=1,column=4, sticky='w')\n",
    "\n",
    "mmmSelectButton = Button(root, text=\"Select\", command=lambda: selectOption(mmmSelected)).grid(row=0, column=4, sticky='e')\n",
    "venZipSelectButton = Button(root, text=\"Select\", command=lambda: selectOption(venZipSelected)).grid(row=1, column=4,sticky='e')\n",
    "#both displaying choice in same place, maybe use lambda function, need to rework\n",
    "#not working properly\n",
    "\n",
    "\n",
    "\n",
    "#button to display graph for violations commited by establishment\n",
    "graphButton = Button(root, text=\"Display Establishment Violations\").grid(row=4, column=4,sticky='e')  #command=display_Graph\n",
    "\n",
    "#button for correlation visualization between vendor violations and zipcode \n",
    "correlationButton = Button(root, text=\"Display Zipcode Violations\").grid(row=5, column=4,sticky='e')\n",
    "\n",
    "\n",
    "root.mainloop()"
   ]
  },
  {
   "cell_type": "code",
   "execution_count": null,
   "metadata": {},
   "outputs": [],
   "source": []
  },
  {
   "cell_type": "code",
   "execution_count": null,
   "metadata": {},
   "outputs": [],
   "source": []
  }
 ],
 "metadata": {
  "kernelspec": {
   "display_name": "Python 3",
   "language": "python",
   "name": "python3"
  },
  "language_info": {
   "codemirror_mode": {
    "name": "ipython",
    "version": 3
   },
   "file_extension": ".py",
   "mimetype": "text/x-python",
   "name": "python",
   "nbconvert_exporter": "python",
   "pygments_lexer": "ipython3",
   "version": "3.8.5"
  }
 },
 "nbformat": 4,
 "nbformat_minor": 4
}
