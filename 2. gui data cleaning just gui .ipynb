{
 "cells": [
  {
   "cell_type": "code",
   "execution_count": null,
   "metadata": {},
   "outputs": [],
   "source": [
    "The client initially wants the application to perform the following \n",
    "actions on the data:\n",
    "1.\tOutputs should not include any data from vendors that have a \n",
    "‘PROGRAM STATUS’ of INACTIVE.\n",
    "\n",
    "2.\tThe ‘PE DESCRIPTION’ column contains information on the number \n",
    "and type of seating available at the vendor. \n",
    "Extract this out into a new column, \n",
    "retain all other information within that column. E.g.: \n",
    "a.\t‘FOOD MKT RETAIL (1-1,999 SF) LOW RISK’, \n",
    "b.\t‘RESTAURANT (61-150) SEATS LOW RISK’.  \n",
    "c.\tExtract the greyed area out and retain the rest in the examples\n",
    "d.\tThe client initially needs information to generate the \n",
    "following and output the results using appropriate representation:"
   ]
  },
  {
   "cell_type": "code",
   "execution_count": 1,
   "metadata": {},
   "outputs": [],
   "source": [
    "from tkinter import *\n",
    "import csv\n",
    "import json\n",
    "import os\n",
    "from tkinter import filedialog as fd\n",
    "\n",
    "#function for selecting clean option\n",
    "def selectOption():\n",
    "    myLabel=Label(root, text=selected.get()).grid(row=1, column=0)\n",
    "    \n",
    "root =Tk()\n",
    "root.geometry(\"350x200\")\n",
    "root.title(\"Clean, Save and Display Data\")\n",
    "\n",
    "#options for dropbox\n",
    "options = [\n",
    "    \"None Selected\",\n",
    "    \"Remove Inactive Programs\",\n",
    "    \"Extract Seating Information\"\n",
    "]\n",
    "\n",
    "#drop down box for cleaning options\n",
    "selected = StringVar()\n",
    "selected.set(options[0])\n",
    "drop = OptionMenu(root, selected, *options).grid(row=0,column=0)\n",
    "\n",
    "\n",
    "selectButton = Button(root, text=\"Select\", command=selectOption).grid(row=0, column=1, sticky='e')\n",
    "applyButton = Button(root, text=\"Apply Changes\").grid(row=1, column=1, sticky='e')#command=clean\n",
    "saveButton = Button(root,text=\"Save\" ).grid(row=2, column=1, sticky='e')#command=saveData\n",
    "viewButton = Button(root, text=\"View Data\").grid(row=3, column=1, sticky='e')#command = view data\n",
    "root.mainloop()"
   ]
  },
  {
   "cell_type": "code",
   "execution_count": null,
   "metadata": {},
   "outputs": [],
   "source": []
  }
 ],
 "metadata": {
  "kernelspec": {
   "display_name": "Python 3",
   "language": "python",
   "name": "python3"
  },
  "language_info": {
   "codemirror_mode": {
    "name": "ipython",
    "version": 3
   },
   "file_extension": ".py",
   "mimetype": "text/x-python",
   "name": "python",
   "nbconvert_exporter": "python",
   "pygments_lexer": "ipython3",
   "version": "3.8.5"
  }
 },
 "nbformat": 4,
 "nbformat_minor": 4
}
