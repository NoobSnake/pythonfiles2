{
 "cells": [
  {
   "cell_type": "code",
   "execution_count": 33,
   "metadata": {},
   "outputs": [],
   "source": [
    "from tkinter import *\n",
    "from PIL import ImageTk, Image\n",
    "from tkinter import filedialog as fd\n",
    "\n",
    "root = Tk()\n",
    "root.title(\"Please upload your three CSV files\")\n",
    "root.geometry(\"500x100\")\n",
    "\n",
    "#load and display names of CSV files uploaded\n",
    "def upload():\n",
    "    global selected_csv\n",
    "    root.filename = fd.askopenfilename(initialdir=\"/\", \n",
    "                                   title=\"Select your CSV file\", \n",
    "                                   filetypes=((\"CSV files\", \"*.csv\"),))\n",
    "    file_Label = Label(root, text=root.filename).grid()\n",
    "\n",
    "    selected_csv.delete(0,END)\n",
    "    selected_csv.insert(0,file_name)\n",
    "    \n",
    "\n",
    "#save the files and move on to data cleaning\n",
    "#def saveFiles():\n",
    "  #  if entry_csv1, entry_csv2, entry_csv3 = empty:\n",
    "     #   messagebox.showerror(\"Error\", \"Please Upload 3 CSV files\")\n",
    "   # else:\n",
    "       # return   #link to second window\n",
    "    \n",
    "\n",
    "#exiting the program    \n",
    "def exit_program():\n",
    "    root.withdraw()\n",
    "    sys.exit()\n",
    "\n",
    "labelcsv1 = Label(root, text=\"File 1\").grid(row=0, column=0)\n",
    "#need code to make text display filename\n",
    "entry_csv1=Entry(root, text=\"\", width=50).grid(row=0, column=1)\n",
    "btncsv1 = Button(root, text=\"Upload CSV File 1\", command=upload)\n",
    "#may need to use lambda function to get the name\n",
    "btncsv1.grid(row=0, column=2)\n",
    "\n",
    "\n",
    "labelcsv2 = Label(root, text=\"File 2\").grid(row=1, column=0)\n",
    "entry_csv2=Entry(root, text=\"\", width=50).grid(row=1, column=1)\n",
    "btncsv2 = Button(root, text=\"Upload CSV File 2\", command=upload)\n",
    "\n",
    "btncsv2.grid(row=1, column=2)\n",
    "\n",
    "\n",
    "labelCSV3 = Label(root, text=\"File 3\").grid(row=2, column=0)\n",
    "entry_csv3=Entry(root, text=\"\", width=50).grid(row=2, column=1)\n",
    "btncsv3 = Button(root, text=\"Upload CSV File 3\", command=upload)\n",
    "#btncsv1.grid(row=2, column=2) - causing problems with layout\n",
    "\n",
    "\n",
    "btnSave = Button(root, text=\"Save\").grid(row=3, column=1, columnspan=1) #command=saveFiles\n",
    "btnExit = Button(root, text=\"Exit\", command=exit_program).grid(row=3, column=2, columnspan=1)\n",
    "root.mainloop()"
   ]
  },
  {
   "cell_type": "code",
   "execution_count": 10,
   "metadata": {},
   "outputs": [],
   "source": []
  },
  {
   "cell_type": "code",
   "execution_count": null,
   "metadata": {},
   "outputs": [],
   "source": []
  }
 ],
 "metadata": {
  "kernelspec": {
   "display_name": "Python 3",
   "language": "python",
   "name": "python3"
  },
  "language_info": {
   "codemirror_mode": {
    "name": "ipython",
    "version": 3
   },
   "file_extension": ".py",
   "mimetype": "text/x-python",
   "name": "python",
   "nbconvert_exporter": "python",
   "pygments_lexer": "ipython3",
   "version": "3.8.5"
  }
 },
 "nbformat": 4,
 "nbformat_minor": 4
}
